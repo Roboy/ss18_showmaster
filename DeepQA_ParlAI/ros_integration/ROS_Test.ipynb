{
 "cells": [
  {
   "cell_type": "markdown",
   "metadata": {},
   "source": [
    "## Model Hacking"
   ]
  },
  {
   "cell_type": "code",
   "execution_count": 6,
   "metadata": {},
   "outputs": [
    {
     "name": "stdout",
     "output_type": "stream",
     "text": [
      "[ no model with opt yet at: /Users/christoph/Documents/Roboy/ParlAI/data/models/convai2/profilememory/profilememory_convai2_model(.opt) ]\n",
      "Dictionary: loading dictionary from /Users/christoph/Documents/Roboy/ParlAI/data/models/convai2/profilememory/profilememory_convai2.dict\n",
      "[ num words =  18803 ]\n",
      "Loading existing model params from /Users/christoph/Documents/Roboy/ParlAI/data/models/convai2/profilememory/profilememory_convai2_model\n",
      "Overriding option [ numlayers: 2 => 1]\n",
      "Overriding option [ attention: None => general]\n",
      "Overriding option [ personachat_attnsentlevel: False => True]\n",
      "Overriding option [ personachat_sharelt: False => True]\n",
      "Overriding option [ personachat_reweight: None => use]\n",
      "Overriding option [ personachat_learnreweight: False => True]\n"
     ]
    },
    {
     "name": "stderr",
     "output_type": "stream",
     "text": [
      "/Users/christoph/Documents/Roboy/FacebookResearch/venvFB/lib/python3.6/site-packages/torch/nn/modules/rnn.py:38: UserWarning: dropout option adds dropout after all but last recurrent layer, so non-zero dropout expects num_layers greater than 1, but got dropout=0.1 and num_layers=1\n",
      "  \"num_layers={}\".format(dropout, num_layers))\n"
     ]
    },
    {
     "name": "stdout",
     "output_type": "stream",
     "text": [
      "[creating task(s): parlai.agents.local_human.local_human:LocalHumanAgent]\n"
     ]
    }
   ],
   "source": [
    "from parlai.core.build_data import download_models\n",
    "from parlai.core.params import ParlaiParser\n",
    "from parlai.scripts.interactive import interactive\n",
    "\n",
    "opt = {'task': None, 'download_path': '/Users/christoph/Documents/Roboy/ParlAI/downloads', \\\n",
    "       'datatype': 'train', 'image_mode': 'raw', 'numthreads': 1, 'hide_labels': False, 'batchsize': 1, \\\n",
    "       'include_labels': True, 'datapath': '/Users/christoph/Documents/Roboy/ParlAI/data', \\\n",
    "       'model': 'projects.personachat.persona_seq2seq:PersonachatSeqseqAgentSplit', \\\n",
    "       'model_file': '/Users/christoph/Documents/Roboy/ParlAI/data/models/convai2/profilememory/profilememory_convai2_model', \\\n",
    "       'dict_class': None, 'display_examples': False, 'image_size': 256, 'image_cropsize': 224, \\\n",
    "       'dict_file': '/Users/christoph/Documents/Roboy/ParlAI/data/models/convai2/profilememory/profilememory_convai2.dict', \\\n",
    "       'dict_initpath': None, 'dict_language': 'english', 'dict_max_ngram_size': -1, 'dict_minfreq': 0, \\\n",
    "       'dict_maxtokens': -1, 'dict_nulltoken': '__NULL__', 'dict_starttoken': '__START__', 'dict_endtoken': '__END__', \\\n",
    "       'dict_unktoken': '__UNK__', 'dict_tokenizer': 'split', 'dict_lower': False, 'hiddensize': 1024, \\\n",
    "       'embeddingsize': 300, 'numlayers': 2, 'learningrate': 0.5, 'dropout': 0.1, 'bidirectional': False, \\\n",
    "       'attention': None, 'no_cuda': False, 'gpu': -1, 'rank_candidates': False, 'truncate': 100, 'encoder': 'lstm', \\\n",
    "       'decoder': 'same', 'optimizer': 'adam', 'personachat_useprevdialog': False, 'personachat_printattn': False, \\\n",
    "       'personachat_attnsentlevel': False, 'personachat_sharelt': False, 'personachat_reweight': None, \\\n",
    "       'personachat_guidesoftmax': False, 'personachat_newsetting': '', 'personachat_interact': False, \\\n",
    "       'personachat_pdmn': False, 'personachat_tfidfperp': False, 'personachat_learnreweight': False, \\\n",
    "       'personachat_embshareonly_pm_dec': False, 'personachat_s2sinit': False, 'interactive_mode': True, \\\n",
    "       'use_persona': 'self', 'parlai_home': '/Users/christoph/Documents/Roboy/ParlAI', 'override': {}, \\\n",
    "       'starttime': 'Jun15_16-58'}\n",
    "opt['model_type'] = 'profilememory' # for builder\n",
    "# build profile memory models\n",
    "fnames = ['profilememory_convai2_model',\n",
    "          'profilememory_convai2.dict']\n",
    "download_models(opt, fnames, 'convai2', use_model_type=True)\n",
    "\n",
    "from parlai.core.params import ParlaiParser\n",
    "from parlai.core.agents import create_agent\n",
    "#from parlai.core.worlds import create_task\n",
    "from ROS_worlds import create_task\n",
    "from parlai.agents.local_human.local_human import LocalHumanAgent\n",
    "\n",
    "import random\n",
    "\n",
    "opt['task'] = 'parlai.agents.local_human.local_human:LocalHumanAgent'\n",
    "\n",
    "# Create model and assign it to the specified task\n",
    "agent = create_agent(opt, requireModelExists=True)\n",
    "world = create_task(opt, agent)\n",
    "#interactive(opt)"
   ]
  },
  {
   "cell_type": "code",
   "execution_count": 9,
   "metadata": {},
   "outputs": [],
   "source": [
    "sentence = 'good thanks'"
   ]
  },
  {
   "cell_type": "code",
   "execution_count": 10,
   "metadata": {},
   "outputs": [
    {
     "name": "stdout",
     "output_type": "stream",
     "text": [
      "[Seq2Seq]: do you have any hobbies ?\n",
      "do you have any hobbies ?\n"
     ]
    },
    {
     "name": "stderr",
     "output_type": "stream",
     "text": [
      "/Users/christoph/Documents/Roboy/ParlAI/projects/personachat/persona_seq2seq.py:1738: UserWarning: Implicit dimension choice for softmax has been deprecated. Change the call to include dim=X as an argument.\n",
      "  attn_weights = F.softmax(attn_w_premask)\n",
      "/Users/christoph/Documents/Roboy/ParlAI/projects/personachat/persona_seq2seq.py:1486: UserWarning: Implicit dimension choice for log_softmax has been deprecated. Change the call to include dim=X as an argument.\n",
      "  scores = F.log_softmax(scores)\n"
     ]
    }
   ],
   "source": [
    "answer = world.parley(sentence)\n",
    "print(answer)"
   ]
  },
  {
   "cell_type": "code",
   "execution_count": null,
   "metadata": {},
   "outputs": [],
   "source": [
    "# ROS_worlds, class DialogPartnerWorld(World), def parley()\n"
   ]
  },
  {
   "cell_type": "code",
   "execution_count": null,
   "metadata": {},
   "outputs": [],
   "source": []
  },
  {
   "cell_type": "code",
   "execution_count": null,
   "metadata": {},
   "outputs": [],
   "source": []
  },
  {
   "cell_type": "code",
   "execution_count": null,
   "metadata": {},
   "outputs": [],
   "source": []
  }
 ],
 "metadata": {
  "kernelspec": {
   "display_name": "Python 3",
   "language": "python",
   "name": "python3"
  },
  "language_info": {
   "codemirror_mode": {
    "name": "ipython",
    "version": 3
   },
   "file_extension": ".py",
   "mimetype": "text/x-python",
   "name": "python",
   "nbconvert_exporter": "python",
   "pygments_lexer": "ipython3",
   "version": "3.6.5"
  }
 },
 "nbformat": 4,
 "nbformat_minor": 2
}
